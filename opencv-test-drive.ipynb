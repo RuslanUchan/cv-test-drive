{
 "cells": [
  {
   "cell_type": "markdown",
   "metadata": {},
   "source": [
    "### Video"
   ]
  },
  {
   "cell_type": "raw",
   "metadata": {},
   "source": [
    "# Importing OpenCV\n",
    "import cv2\n",
    "import numpy as np"
   ]
  },
  {
   "cell_type": "raw",
   "metadata": {},
   "source": [
    "# Create a VideoCapture object and read from input file\n",
    "# If the input is the camera, pass 0 instead of the video file name\n",
    "cap = cv2.VideoCapture('videos/cafe.mp4')"
   ]
  },
  {
   "cell_type": "raw",
   "metadata": {},
   "source": [
    "# Check if camera opened successfully\n",
    "if (cap.isOpened()== False): \n",
    "    print(\"Error opening video stream or file\")"
   ]
  },
  {
   "cell_type": "raw",
   "metadata": {},
   "source": [
    "# Read the video\n",
    "while(cap.isOpened()):\n",
    "  # Capture frame-by-frame\n",
    "  ret, frame = cap.read()\n",
    "  if ret == True:\n",
    " \n",
    "    # Converting the image to grayscale.\n",
    "    gray = cv2.cvtColor(frame, cv2.COLOR_BGR2GRAY)\n",
    "\n",
    "    # Display the resulting frame\n",
    "    cv2.imshow('Frame', gray)\n",
    "\n",
    "    # Press Q on keyboard to  exit\n",
    "    if cv2.waitKey(25) & 0xFF == ord('q'):\n",
    "      break\n",
    " \n",
    "  # Break the loop\n",
    "  else: \n",
    "    break"
   ]
  },
  {
   "cell_type": "raw",
   "metadata": {},
   "source": [
    "# When everything done, release the video capture object\n",
    "cap.release()\n",
    " \n",
    "# Closes all the frames\n",
    "cv2.destroyAllWindows()"
   ]
  },
  {
   "cell_type": "markdown",
   "metadata": {},
   "source": [
    "### Wajah dan Mata"
   ]
  },
  {
   "cell_type": "code",
   "execution_count": null,
   "metadata": {},
   "outputs": [],
   "source": [
    "# import opencv\n",
    "import cv2"
   ]
  },
  {
   "cell_type": "code",
   "execution_count": null,
   "metadata": {},
   "outputs": [],
   "source": [
    "# load gambar dan file classifier detector wajah\n",
    "# img = cv2.imread('photos/kaguya-reddis.png')\n",
    "img = cv2.imread('photos/studying-philosophy.png')\n",
    "\n",
    "face = cv2.CascadeClassifier('haarcascade_frontalface_default.xml')\n",
    "eye = cv2.CascadeClassifier('haarcascade_eye.xml')"
   ]
  },
  {
   "cell_type": "code",
   "execution_count": null,
   "metadata": {},
   "outputs": [],
   "source": [
    "# membuat detector wajah\n",
    "# ubah background menjadi abu-abu\n",
    "gray = cv2.cvtColor(img, cv2.COLOR_BGR2GRAY)\n",
    "\n",
    "# mulai detect wajah\n",
    "muka = face.detectMultiScale(gray, 1.3, 5)\n",
    "\n",
    "# buat kotak di sekitar wajah\n",
    "for (x,y,w,h) in muka:\n",
    "    # rectangle: gambar, titik kiri bawah, titik kanan atas, warna, tebal garis\n",
    "    cv2.rectangle(img, (x,y), (x+w, y+h), (0,255,0), 2)\n",
    "    \n",
    "    # membuat detector mata\n",
    "    # tentukan area bagian dalam wajah\n",
    "    roi_warna = img[y:y+h, x:x+w]\n",
    "    roi_gray = gray[y:y+h, x:x+w]\n",
    "\n",
    "    # mulai detect mata\n",
    "    mata = eye.detectMultiScale(roi_gray, 1.5, 3)\n",
    "    \n",
    "    for (mx,my,mw,mh) in mata:\n",
    "        cv2.rectangle(roi_warna, (mx,my), (mx+mw, my+mh), (255, 255, 0), 1)"
   ]
  },
  {
   "cell_type": "code",
   "execution_count": null,
   "metadata": {},
   "outputs": [],
   "source": [
    "# detector wajah dan mata\n",
    "# cv2.imshow('KAGUYAAAAAAAWWW', img)\n",
    "cv2.imshow('Test test', img)\n",
    "cv2.waitKey(0)\n",
    "cv2.destroyAllWindows()"
   ]
  },
  {
   "cell_type": "markdown",
   "metadata": {},
   "source": [
    "### Garis Pinggir Foto"
   ]
  },
  {
   "cell_type": "code",
   "execution_count": null,
   "metadata": {},
   "outputs": [],
   "source": [
    "# import opencv\n",
    "import cv2"
   ]
  },
  {
   "cell_type": "code",
   "execution_count": null,
   "metadata": {},
   "outputs": [],
   "source": [
    "img = cv2.imread('photos/kaguya-reddis.png')"
   ]
  },
  {
   "cell_type": "code",
   "execution_count": null,
   "metadata": {},
   "outputs": [],
   "source": [
    "# detect garis pinggir gambar\n",
    "edge = cv2.Canny(img, 70, 70)\n",
    "\n",
    "# jalankan detector (muncul panel box)\n",
    "cv2.imshow('Edge Detector', edge)\n",
    "\n",
    "cv2.waitKey(0)\n",
    "cv2.destroyAllWindows()"
   ]
  },
  {
   "cell_type": "markdown",
   "metadata": {},
   "source": [
    "### Vidcam"
   ]
  },
  {
   "cell_type": "code",
   "execution_count": null,
   "metadata": {},
   "outputs": [],
   "source": [
    "import cv2\n",
    "\n",
    "videoCam = cv2.VideoCapture(0)\n",
    "\n",
    "while True:\n",
    "   cond, frame = videoCam.read()\n",
    "   edge = cv2.Canny(frame, 70, 70)\n",
    "\n",
    "   cv2.imshow('Edge Detect', edge)\n",
    "\n",
    "   exit = cv2.waitKey(1) & 0xff\n",
    "   if exit == ord('q'):\n",
    "       break\n",
    "\n",
    "videoCam.release()\n",
    "cv2.destroyAllWindows()"
   ]
  },
  {
   "cell_type": "markdown",
   "metadata": {},
   "source": [
    "### Vidcam + Detection"
   ]
  },
  {
   "cell_type": "code",
   "execution_count": null,
   "metadata": {},
   "outputs": [],
   "source": [
    "import cv2\n",
    "\n",
    "videoCam = cv2.VideoCapture(0)\n",
    "\n",
    "face = cv2.CascadeClassifier('face-detect.xml')\n",
    "eye = cv2.CascadeClassifier('eye-detect.xml')\n",
    "\n",
    "while True:\n",
    "    cond, frame = videoCam.read()\n",
    "\n",
    "    gray = cv2.cvtColor(frame, cv2.COLOR_BGR2GRAY)\n",
    "    muka = face.detectMultiScale(gray, 1.3, 5)\n",
    "    for (x,y,w,h) in muka:\n",
    "        cv2.rectangle(frame, (x,y), (x+w, y+h), (0, 255, 0), 5)\n",
    "\n",
    "        roi_warna = frame[y:y+h, x:x+w]\n",
    "        roi_gray = gray[y:y+h, x:x+w]\n",
    "        mata = eye.detectMultiScale(roi_gray)\n",
    "        for (mx,my,mw,mh)in mata:\n",
    "            cv2.rectangle(roi_warna, (mx,my), (mx+mw, my+mh), (255,255,0), 2)\n",
    "\n",
    "    cv2.imshow('Face dan Eye detection', frame)\n",
    "\n",
    "    k = cv2.waitKey(1) & 0xff\n",
    "    if k == ord('q'):\n",
    "        break\n",
    "\n",
    "videoCam.release()\n",
    "cv2.destroyAllWindows()"
   ]
  }
 ],
 "metadata": {
  "kernelspec": {
   "display_name": "Python 3",
   "language": "python",
   "name": "python3"
  },
  "language_info": {
   "codemirror_mode": {
    "name": "ipython",
    "version": 3
   },
   "file_extension": ".py",
   "mimetype": "text/x-python",
   "name": "python",
   "nbconvert_exporter": "python",
   "pygments_lexer": "ipython3",
   "version": "3.7.3"
  }
 },
 "nbformat": 4,
 "nbformat_minor": 2
}
